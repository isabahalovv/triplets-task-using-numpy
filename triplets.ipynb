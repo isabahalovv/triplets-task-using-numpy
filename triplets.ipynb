{
 "cells": [
  {
   "cell_type": "markdown",
   "id": "b9e707cf",
   "metadata": {},
   "source": [
    "### Write a function triplets that takes a number n as argument and returns n tuples of triplets from the arrays which has been selected randomly. And sum of first two elements of the triplet equals the third element using numbers below n. Please note that (a, b, c) and (b, a, c) represent same triplet."
   ]
  },
  {
   "cell_type": "code",
   "execution_count": 1,
   "id": "fa898018",
   "metadata": {},
   "outputs": [],
   "source": [
    "import numpy as np"
   ]
  },
  {
   "cell_type": "code",
   "execution_count": 2,
   "id": "73d1b441",
   "metadata": {},
   "outputs": [],
   "source": [
    "def triplets(n):\n",
    "    num = 0\n",
    "    all_triplets = []\n",
    "    \n",
    "    while num < n:\n",
    "        arr = np.random.randint(n, size = 3)\n",
    "        \n",
    "        if arr[2] == arr[0] + arr[1] and arr[2]<n:\n",
    "            if len(all_triplets) == 0 or len(all_triplets) == 1:\n",
    "                arr = tuple(arr)\n",
    "                all_triplets.append(arr)\n",
    "                num += 1\n",
    "            else:\n",
    "                for triplet in all_triplets:\n",
    "                    \n",
    "                    # Checking duplicates\n",
    "            \n",
    "                    if (tuple(arr) in all_triplets) or ((arr[1], arr[0], arr[2]) in all_triplets):\n",
    "                        continue\n",
    "                    else:\n",
    "                        arr = tuple(arr)\n",
    "                        all_triplets.append(arr)\n",
    "                        num += 1\n",
    "            \n",
    "    return all_triplets"
   ]
  },
  {
   "cell_type": "code",
   "execution_count": 5,
   "id": "4f721baf",
   "metadata": {},
   "outputs": [
    {
     "data": {
      "text/plain": [
       "[(1, 3, 4), (2, 1, 3), (0, 3, 3), (4, 0, 4), (0, 0, 0)]"
      ]
     },
     "execution_count": 5,
     "metadata": {},
     "output_type": "execute_result"
    }
   ],
   "source": [
    "triplets(5)"
   ]
  }
 ],
 "metadata": {
  "kernelspec": {
   "display_name": "Python 3",
   "language": "python",
   "name": "python3"
  },
  "language_info": {
   "codemirror_mode": {
    "name": "ipython",
    "version": 3
   },
   "file_extension": ".py",
   "mimetype": "text/x-python",
   "name": "python",
   "nbconvert_exporter": "python",
   "pygments_lexer": "ipython3",
   "version": "3.9.1"
  }
 },
 "nbformat": 4,
 "nbformat_minor": 5
}
